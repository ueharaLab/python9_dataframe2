{
 "cells": [
  {
   "cell_type": "code",
   "execution_count": 43,
   "id": "44a025fd-a94b-4d01-9abd-182595cfbf70",
   "metadata": {},
   "outputs": [
    {
     "data": {
      "text/html": [
       "<div>\n",
       "<style scoped>\n",
       "    .dataframe tbody tr th:only-of-type {\n",
       "        vertical-align: middle;\n",
       "    }\n",
       "\n",
       "    .dataframe tbody tr th {\n",
       "        vertical-align: top;\n",
       "    }\n",
       "\n",
       "    .dataframe thead th {\n",
       "        text-align: right;\n",
       "    }\n",
       "</style>\n",
       "<table border=\"1\" class=\"dataframe\">\n",
       "  <thead>\n",
       "    <tr style=\"text-align: right;\">\n",
       "      <th></th>\n",
       "      <th>名前</th>\n",
       "      <th>国語</th>\n",
       "      <th>数学</th>\n",
       "      <th>英語</th>\n",
       "      <th>国籍</th>\n",
       "      <th>学年</th>\n",
       "      <th>通学時間</th>\n",
       "    </tr>\n",
       "  </thead>\n",
       "  <tbody>\n",
       "    <tr>\n",
       "      <th>AL</th>\n",
       "      <td>Alice</td>\n",
       "      <td>70</td>\n",
       "      <td>80</td>\n",
       "      <td>85</td>\n",
       "      <td>アメリカ</td>\n",
       "      <td>中1</td>\n",
       "      <td>10分</td>\n",
       "    </tr>\n",
       "    <tr>\n",
       "      <th>SH</th>\n",
       "      <td>Shohei</td>\n",
       "      <td>95</td>\n",
       "      <td>78</td>\n",
       "      <td>70</td>\n",
       "      <td>日本</td>\n",
       "      <td>中2</td>\n",
       "      <td>30分</td>\n",
       "    </tr>\n",
       "    <tr>\n",
       "      <th>BO</th>\n",
       "      <td>Bob</td>\n",
       "      <td>65</td>\n",
       "      <td>85</td>\n",
       "      <td>97</td>\n",
       "      <td>カナダ</td>\n",
       "      <td>中1</td>\n",
       "      <td>15分</td>\n",
       "    </tr>\n",
       "    <tr>\n",
       "      <th>CH</th>\n",
       "      <td>Charlie</td>\n",
       "      <td>90</td>\n",
       "      <td>95</td>\n",
       "      <td>100</td>\n",
       "      <td>イギリス</td>\n",
       "      <td>中3</td>\n",
       "      <td>5分</td>\n",
       "    </tr>\n",
       "    <tr>\n",
       "      <th>MA</th>\n",
       "      <td>Mamiko</td>\n",
       "      <td>80</td>\n",
       "      <td>75</td>\n",
       "      <td>90</td>\n",
       "      <td>日本</td>\n",
       "      <td>中1</td>\n",
       "      <td>10分</td>\n",
       "    </tr>\n",
       "    <tr>\n",
       "      <th>PE</th>\n",
       "      <td>Peter</td>\n",
       "      <td>65</td>\n",
       "      <td>85</td>\n",
       "      <td>90</td>\n",
       "      <td>ドイツ</td>\n",
       "      <td>中2</td>\n",
       "      <td>15分</td>\n",
       "    </tr>\n",
       "  </tbody>\n",
       "</table>\n",
       "</div>"
      ],
      "text/plain": [
       "         名前  国語  数学   英語    国籍  学年 通学時間\n",
       "AL    Alice  70  80   85  アメリカ  中1  10分\n",
       "SH   Shohei  95  78   70    日本  中2  30分\n",
       "BO      Bob  65  85   97   カナダ  中1  15分\n",
       "CH  Charlie  90  95  100  イギリス  中3   5分\n",
       "MA   Mamiko  80  75   90    日本  中1  10分\n",
       "PE    Peter  65  85   90   ドイツ  中2  15分"
      ]
     },
     "execution_count": 43,
     "metadata": {},
     "output_type": "execute_result"
    }
   ],
   "source": [
    "import pandas as pd\n",
    "scores = [['Alice',70,80,85,'アメリカ','中1','10分'],['Shohei',95,78,70,'日本','中2','30分'],['Bob',65,85,97,'カナダ','中1','15分']\n",
    ",['Charlie',90,95,100,'イギリス','中3','5分'],['Mamiko',80,75,90,'日本','中1','10分'],['Peter',65,85,90,'ドイツ','中2','15分']]\n",
    "score_df = pd.DataFrame(scores, index = ['AL','SH','BO','CH','MA','PE'],columns=['名前','国語','数学','英語','国籍','学年','通学時間'])\n",
    "score_df\n"
   ]
  },
  {
   "cell_type": "markdown",
   "id": "e98b81ef",
   "metadata": {},
   "source": [
    "# 1. DataFrameからの条件抽出\n",
    "英語のスコアが90以上の生徒を抽出せよ"
   ]
  },
  {
   "cell_type": "code",
   "execution_count": 9,
   "id": "d7b584f2-38ff-4851-ab86-3b43e2a25455",
   "metadata": {},
   "outputs": [
    {
     "data": {
      "text/html": [
       "<div>\n",
       "<style scoped>\n",
       "    .dataframe tbody tr th:only-of-type {\n",
       "        vertical-align: middle;\n",
       "    }\n",
       "\n",
       "    .dataframe tbody tr th {\n",
       "        vertical-align: top;\n",
       "    }\n",
       "\n",
       "    .dataframe thead th {\n",
       "        text-align: right;\n",
       "    }\n",
       "</style>\n",
       "<table border=\"1\" class=\"dataframe\">\n",
       "  <thead>\n",
       "    <tr style=\"text-align: right;\">\n",
       "      <th></th>\n",
       "      <th>名前</th>\n",
       "      <th>国語</th>\n",
       "      <th>数学</th>\n",
       "      <th>英語</th>\n",
       "      <th>国籍</th>\n",
       "      <th>学年</th>\n",
       "      <th>通学時間</th>\n",
       "    </tr>\n",
       "  </thead>\n",
       "  <tbody>\n",
       "    <tr>\n",
       "      <th>BO</th>\n",
       "      <td>Bob</td>\n",
       "      <td>65</td>\n",
       "      <td>85</td>\n",
       "      <td>97</td>\n",
       "      <td>カナダ</td>\n",
       "      <td>中1</td>\n",
       "      <td>15分</td>\n",
       "    </tr>\n",
       "    <tr>\n",
       "      <th>CH</th>\n",
       "      <td>Charlie</td>\n",
       "      <td>90</td>\n",
       "      <td>95</td>\n",
       "      <td>100</td>\n",
       "      <td>イギリス</td>\n",
       "      <td>中3</td>\n",
       "      <td>5分</td>\n",
       "    </tr>\n",
       "    <tr>\n",
       "      <th>MA</th>\n",
       "      <td>Mamiko</td>\n",
       "      <td>80</td>\n",
       "      <td>75</td>\n",
       "      <td>90</td>\n",
       "      <td>日本</td>\n",
       "      <td>中1</td>\n",
       "      <td>10分</td>\n",
       "    </tr>\n",
       "    <tr>\n",
       "      <th>PE</th>\n",
       "      <td>Peter</td>\n",
       "      <td>65</td>\n",
       "      <td>85</td>\n",
       "      <td>90</td>\n",
       "      <td>ドイツ</td>\n",
       "      <td>中2</td>\n",
       "      <td>15分</td>\n",
       "    </tr>\n",
       "  </tbody>\n",
       "</table>\n",
       "</div>"
      ],
      "text/plain": [
       "         名前  国語  数学   英語    国籍  学年 通学時間\n",
       "BO      Bob  65  85   97   カナダ  中1  15分\n",
       "CH  Charlie  90  95  100  イギリス  中3   5分\n",
       "MA   Mamiko  80  75   90    日本  中1  10分\n",
       "PE    Peter  65  85   90   ドイツ  中2  15分"
      ]
     },
     "execution_count": 9,
     "metadata": {},
     "output_type": "execute_result"
    }
   ],
   "source": []
  },
  {
   "cell_type": "markdown",
   "id": "727f4eab-e52c-4341-8ba5-9ce2706b57d4",
   "metadata": {},
   "source": [
    "国籍が日本以外でかつ、国語のスコアが70以上の生徒を抽出せよ"
   ]
  },
  {
   "cell_type": "code",
   "execution_count": 15,
   "id": "33deb556-b41e-44e4-8a55-9e11f728d28f",
   "metadata": {},
   "outputs": [
    {
     "data": {
      "text/html": [
       "<div>\n",
       "<style scoped>\n",
       "    .dataframe tbody tr th:only-of-type {\n",
       "        vertical-align: middle;\n",
       "    }\n",
       "\n",
       "    .dataframe tbody tr th {\n",
       "        vertical-align: top;\n",
       "    }\n",
       "\n",
       "    .dataframe thead th {\n",
       "        text-align: right;\n",
       "    }\n",
       "</style>\n",
       "<table border=\"1\" class=\"dataframe\">\n",
       "  <thead>\n",
       "    <tr style=\"text-align: right;\">\n",
       "      <th></th>\n",
       "      <th>名前</th>\n",
       "      <th>国語</th>\n",
       "      <th>数学</th>\n",
       "      <th>英語</th>\n",
       "      <th>国籍</th>\n",
       "      <th>学年</th>\n",
       "      <th>通学時間</th>\n",
       "    </tr>\n",
       "  </thead>\n",
       "  <tbody>\n",
       "    <tr>\n",
       "      <th>AL</th>\n",
       "      <td>Alice</td>\n",
       "      <td>70</td>\n",
       "      <td>80</td>\n",
       "      <td>85</td>\n",
       "      <td>アメリカ</td>\n",
       "      <td>中1</td>\n",
       "      <td>10分</td>\n",
       "    </tr>\n",
       "    <tr>\n",
       "      <th>CH</th>\n",
       "      <td>Charlie</td>\n",
       "      <td>90</td>\n",
       "      <td>95</td>\n",
       "      <td>100</td>\n",
       "      <td>イギリス</td>\n",
       "      <td>中3</td>\n",
       "      <td>5分</td>\n",
       "    </tr>\n",
       "  </tbody>\n",
       "</table>\n",
       "</div>"
      ],
      "text/plain": [
       "         名前  国語  数学   英語    国籍  学年 通学時間\n",
       "AL    Alice  70  80   85  アメリカ  中1  10分\n",
       "CH  Charlie  90  95  100  イギリス  中3   5分"
      ]
     },
     "execution_count": 15,
     "metadata": {},
     "output_type": "execute_result"
    }
   ],
   "source": []
  },
  {
   "cell_type": "markdown",
   "id": "fb6bd687",
   "metadata": {},
   "source": [
    "# 2.演算処理\n",
    "国語、数学、英語それぞれのスコア合計および平均を求めよ"
   ]
  },
  {
   "cell_type": "code",
   "execution_count": 17,
   "id": "7e0a3554-8d15-4659-94b2-d25b7557b32b",
   "metadata": {},
   "outputs": [
    {
     "data": {
      "text/plain": [
       "国語    465\n",
       "数学    498\n",
       "英語    532\n",
       "dtype: int64"
      ]
     },
     "execution_count": 17,
     "metadata": {},
     "output_type": "execute_result"
    }
   ],
   "source": []
  },
  {
   "cell_type": "code",
   "execution_count": 16,
   "id": "8fc6ceb0-d56f-4303-ad53-196d28cf29e0",
   "metadata": {},
   "outputs": [
    {
     "data": {
      "text/plain": [
       "国語    77.500000\n",
       "数学    83.000000\n",
       "英語    88.666667\n",
       "dtype: float64"
      ]
     },
     "execution_count": 16,
     "metadata": {},
     "output_type": "execute_result"
    }
   ],
   "source": []
  },
  {
   "cell_type": "markdown",
   "id": "dea589bd-b6a4-4a18-8eb3-a6a907a409cc",
   "metadata": {},
   "source": [
    "国語のスコアの平均を求めよ"
   ]
  },
  {
   "cell_type": "code",
   "execution_count": 18,
   "id": "beaa721b-8959-485c-8972-441d550088c0",
   "metadata": {},
   "outputs": [
    {
     "data": {
      "text/plain": [
       "77.5"
      ]
     },
     "execution_count": 18,
     "metadata": {},
     "output_type": "execute_result"
    }
   ],
   "source": []
  },
  {
   "cell_type": "markdown",
   "id": "3d9ce7fd-0a65-4644-a6a3-2dbe704b7e47",
   "metadata": {},
   "source": [
    "学年が中1または中2の生徒の数学のスコア平均を求めよ"
   ]
  },
  {
   "cell_type": "code",
   "execution_count": 19,
   "id": "5e676a16-283d-487d-9a71-6168d21fe8b6",
   "metadata": {},
   "outputs": [
    {
     "data": {
      "text/plain": [
       "80.6"
      ]
     },
     "execution_count": 19,
     "metadata": {},
     "output_type": "execute_result"
    }
   ],
   "source": []
  },
  {
   "cell_type": "markdown",
   "id": "ce70944e",
   "metadata": {},
   "source": [
    "# 3. グルーピング\n",
    "学年毎の国語、数学、英語のそれぞれ平均を計算せよ"
   ]
  },
  {
   "cell_type": "code",
   "execution_count": 20,
   "id": "b10a620f-8874-499f-ba7e-1a3ee7d02888",
   "metadata": {},
   "outputs": [
    {
     "data": {
      "text/html": [
       "<div>\n",
       "<style scoped>\n",
       "    .dataframe tbody tr th:only-of-type {\n",
       "        vertical-align: middle;\n",
       "    }\n",
       "\n",
       "    .dataframe tbody tr th {\n",
       "        vertical-align: top;\n",
       "    }\n",
       "\n",
       "    .dataframe thead th {\n",
       "        text-align: right;\n",
       "    }\n",
       "</style>\n",
       "<table border=\"1\" class=\"dataframe\">\n",
       "  <thead>\n",
       "    <tr style=\"text-align: right;\">\n",
       "      <th></th>\n",
       "      <th>国語</th>\n",
       "      <th>数学</th>\n",
       "      <th>英語</th>\n",
       "    </tr>\n",
       "    <tr>\n",
       "      <th>学年</th>\n",
       "      <th></th>\n",
       "      <th></th>\n",
       "      <th></th>\n",
       "    </tr>\n",
       "  </thead>\n",
       "  <tbody>\n",
       "    <tr>\n",
       "      <th>中1</th>\n",
       "      <td>71.666667</td>\n",
       "      <td>80.0</td>\n",
       "      <td>90.666667</td>\n",
       "    </tr>\n",
       "    <tr>\n",
       "      <th>中2</th>\n",
       "      <td>80.000000</td>\n",
       "      <td>81.5</td>\n",
       "      <td>80.000000</td>\n",
       "    </tr>\n",
       "    <tr>\n",
       "      <th>中3</th>\n",
       "      <td>90.000000</td>\n",
       "      <td>95.0</td>\n",
       "      <td>100.000000</td>\n",
       "    </tr>\n",
       "  </tbody>\n",
       "</table>\n",
       "</div>"
      ],
      "text/plain": [
       "           国語    数学          英語\n",
       "学年                             \n",
       "中1  71.666667  80.0   90.666667\n",
       "中2  80.000000  81.5   80.000000\n",
       "中3  90.000000  95.0  100.000000"
      ]
     },
     "execution_count": 20,
     "metadata": {},
     "output_type": "execute_result"
    }
   ],
   "source": [
    "\n"
   ]
  },
  {
   "cell_type": "code",
   "execution_count": null,
   "id": "d530fdb3-f35f-40bf-9657-0e362efbaa1a",
   "metadata": {},
   "outputs": [],
   "source": [
    "上表について、学年毎の国語、数学、英語の平均を計算せよ"
   ]
  },
  {
   "cell_type": "code",
   "execution_count": 27,
   "id": "741b4b45-98da-4506-95b4-4c08637db012",
   "metadata": {},
   "outputs": [
    {
     "data": {
      "text/plain": [
       "学年\n",
       "中1    80.777778\n",
       "中2    80.500000\n",
       "中3    95.000000\n",
       "dtype: float64"
      ]
     },
     "execution_count": 27,
     "metadata": {},
     "output_type": "execute_result"
    }
   ],
   "source": []
  },
  {
   "cell_type": "markdown",
   "id": "be2fbf4f-884d-41fb-8276-695a6e5ee850",
   "metadata": {},
   "source": [
    "groupbyで集約したdataframeの中身は、以下の通り、集約に使ったcolumnをキーとして、その値毎のサブdataframeとなっていることがわかる\n",
    "そこで、学年の取りうる値をkey、それに対応するサブdataframeをvalueとする辞書型(Json)を作成せよ"
   ]
  },
  {
   "cell_type": "code",
   "execution_count": 28,
   "id": "dcfd39a4-ea61-40b9-97e0-f79f145482da",
   "metadata": {},
   "outputs": [
    {
     "name": "stdout",
     "output_type": "stream",
     "text": [
      "中1\n",
      "        名前  国語  数学  英語    国籍  学年 通学時間\n",
      "AL   Alice  70  80  85  アメリカ  中1  10分\n",
      "BO     Bob  65  85  97   カナダ  中1  15分\n",
      "MA  Mamiko  80  75  90    日本  中1  10分\n",
      "中2\n",
      "        名前  国語  数学  英語   国籍  学年 通学時間\n",
      "SH  Shohei  95  78  70   日本  中2  30分\n",
      "PE   Peter  65  85  90  ドイツ  中2  15分\n",
      "中3\n",
      "         名前  国語  数学   英語    国籍  学年 通学時間\n",
      "CH  Charlie  90  95  100  イギリス  中3   5分\n"
     ]
    }
   ],
   "source": []
  },
  {
   "cell_type": "code",
   "execution_count": 30,
   "id": "3a0231c1-76c8-4656-b347-6123ea29b8cd",
   "metadata": {},
   "outputs": [
    {
     "data": {
      "text/plain": [
       "{'中1':         名前  国語  数学  英語    国籍  学年 通学時間\n",
       " AL   Alice  70  80  85  アメリカ  中1  10分\n",
       " BO     Bob  65  85  97   カナダ  中1  15分\n",
       " MA  Mamiko  80  75  90    日本  中1  10分,\n",
       " '中2':         名前  国語  数学  英語   国籍  学年 通学時間\n",
       " SH  Shohei  95  78  70   日本  中2  30分\n",
       " PE   Peter  65  85  90  ドイツ  中2  15分,\n",
       " '中3':          名前  国語  数学   英語    国籍  学年 通学時間\n",
       " CH  Charlie  90  95  100  イギリス  中3   5分}"
      ]
     },
     "execution_count": 30,
     "metadata": {},
     "output_type": "execute_result"
    }
   ],
   "source": []
  },
  {
   "cell_type": "markdown",
   "id": "213619c1-9eff-47e2-9a38-9e8ae71b3374",
   "metadata": {},
   "source": [
    "**例2. profile_dfをhobby毎に平均をとる**"
   ]
  },
  {
   "cell_type": "markdown",
   "id": "1bbb56f5",
   "metadata": {},
   "source": [
    "# 4. データの更新\n",
    "Shoheiの英語のスコアを90に更新せよ"
   ]
  },
  {
   "cell_type": "code",
   "execution_count": null,
   "id": "7ae9d63a-fcbc-44b7-bc65-79ad8fce80b3",
   "metadata": {},
   "outputs": [],
   "source": []
  },
  {
   "cell_type": "markdown",
   "id": "c547ca4d-9a64-4e27-9523-24f793f6669f",
   "metadata": {},
   "source": []
  },
  {
   "cell_type": "markdown",
   "id": "5f58675f",
   "metadata": {},
   "source": [
    "# 5. 行毎繰り返し処理\n",
    "score_dfを1行つづ読んで、名前、国語スコアを表示せよ"
   ]
  },
  {
   "cell_type": "code",
   "execution_count": 35,
   "id": "042719b6-bc61-4c1f-9890-1da742814f40",
   "metadata": {},
   "outputs": [
    {
     "name": "stdout",
     "output_type": "stream",
     "text": [
      "Alice 70.0\n",
      "Shohei 95.0\n",
      "Bob 65.0\n",
      "Charlie 90.0\n",
      "Mamiko 80.0\n",
      "Peter 65.0\n",
      "nan nan\n"
     ]
    }
   ],
   "source": [
    "\n"
   ]
  },
  {
   "cell_type": "markdown",
   "id": "10d42b7b-d2b6-4cf8-bcb3-cff777c8d7dc",
   "metadata": {},
   "source": [
    "score_dfを1行づつ読んで、中1の生徒のデータをリスト型で表示せよ"
   ]
  },
  {
   "cell_type": "code",
   "execution_count": 42,
   "id": "eb47c387-c70c-4d33-8a56-58c45aa6b09e",
   "metadata": {},
   "outputs": [
    {
     "name": "stdout",
     "output_type": "stream",
     "text": [
      "['Alice', 70.0, 80.0, 85.0, 'アメリカ', '中1', '10分']\n",
      "['Bob', 65.0, 85.0, 97.0, 'カナダ', '中1', '15分']\n",
      "['Mamiko', 80.0, 75.0, 90.0, '日本', '中1', '10分']\n"
     ]
    }
   ],
   "source": []
  },
  {
   "cell_type": "markdown",
   "id": "2181a909-7095-4369-9179-2c392649ebff",
   "metadata": {},
   "source": [
    "上記3.グルーピングで作成したJsonをfor分で逐次読みだして、サブdataframeを表示せよ\n"
   ]
  },
  {
   "cell_type": "code",
   "execution_count": 44,
   "id": "a954a8bb-5df2-44cf-9410-09fddb504857",
   "metadata": {},
   "outputs": [
    {
     "name": "stdout",
     "output_type": "stream",
     "text": [
      "        名前  国語  数学  英語    国籍  学年 通学時間\n",
      "AL   Alice  70  80  85  アメリカ  中1  10分\n",
      "BO     Bob  65  85  97   カナダ  中1  15分\n",
      "MA  Mamiko  80  75  90    日本  中1  10分\n",
      "        名前  国語  数学  英語   国籍  学年 通学時間\n",
      "SH  Shohei  95  78  70   日本  中2  30分\n",
      "PE   Peter  65  85  90  ドイツ  中2  15分\n",
      "         名前  国語  数学   英語    国籍  学年 通学時間\n",
      "CH  Charlie  90  95  100  イギリス  中3   5分\n"
     ]
    }
   ],
   "source": []
  },
  {
   "cell_type": "code",
   "execution_count": null,
   "id": "0e6d6430-0e32-4985-9280-dc5b7b62c52f",
   "metadata": {},
   "outputs": [],
   "source": []
  }
 ],
 "metadata": {
  "kernelspec": {
   "display_name": "Python 3 (ipykernel)",
   "language": "python",
   "name": "python3"
  },
  "language_info": {
   "codemirror_mode": {
    "name": "ipython",
    "version": 3
   },
   "file_extension": ".py",
   "mimetype": "text/x-python",
   "name": "python",
   "nbconvert_exporter": "python",
   "pygments_lexer": "ipython3",
   "version": "3.11.7"
  }
 },
 "nbformat": 4,
 "nbformat_minor": 5
}
